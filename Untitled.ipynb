{
 "cells": [
  {
   "cell_type": "code",
   "execution_count": 1,
   "metadata": {},
   "outputs": [],
   "source": [
    "# # Python collection\n",
    "# -List\n",
    "# -Tuple\n",
    "# -Dict\n",
    "# -set"
   ]
  },
  {
   "cell_type": "code",
   "execution_count": 2,
   "metadata": {},
   "outputs": [],
   "source": [
    "# List\n",
    "# -Indexing\n",
    "# -Ordered\n",
    "# -Multiple values\n",
    "# -Mutable"
   ]
  },
  {
   "cell_type": "code",
   "execution_count": 4,
   "metadata": {},
   "outputs": [
    {
     "name": "stdout",
     "output_type": "stream",
     "text": [
      "['Apple', 'Ball', 'cat', 'Dog', 'fish']\n",
      "<class 'list'>\n"
     ]
    }
   ],
   "source": [
    "a = []\n",
    "a = list()\n",
    "b = ['Apple','Ball','cat','Dog','fish']\n",
    "print(b)\n",
    "print(type(b))"
   ]
  },
  {
   "cell_type": "code",
   "execution_count": 5,
   "metadata": {},
   "outputs": [
    {
     "name": "stdout",
     "output_type": "stream",
     "text": [
      "5\n"
     ]
    }
   ],
   "source": [
    "print(len(b))"
   ]
  },
  {
   "cell_type": "code",
   "execution_count": 12,
   "metadata": {},
   "outputs": [
    {
     "name": "stdout",
     "output_type": "stream",
     "text": [
      "cat\n"
     ]
    }
   ],
   "source": [
    "b = ['Apple','Ball','cat','Dog','fish']\n",
    "print(b[-3])"
   ]
  },
  {
   "cell_type": "code",
   "execution_count": 13,
   "metadata": {},
   "outputs": [
    {
     "name": "stdout",
     "output_type": "stream",
     "text": [
      "[1, 2, 3, 4, 5, 6, 'Apple', 'Ball', 'cat', 'Dog', 'fish']\n"
     ]
    }
   ],
   "source": [
    "b = ['Apple','Ball','cat','Dog','fish']\n",
    "a = [1,2,3,4,5,6]\n",
    "c = a+b\n",
    "print(c)"
   ]
  },
  {
   "cell_type": "code",
   "execution_count": 14,
   "metadata": {},
   "outputs": [
    {
     "name": "stdout",
     "output_type": "stream",
     "text": [
      "['Apple', 'Ball', 'cat', 'Dog', 'fish', 'Apple', 'Ball', 'cat', 'Dog', 'fish']\n"
     ]
    }
   ],
   "source": [
    "b = ['Apple','Ball','cat','Dog','fish']\n",
    "print(b*2)"
   ]
  },
  {
   "cell_type": "code",
   "execution_count": 15,
   "metadata": {},
   "outputs": [
    {
     "name": "stdout",
     "output_type": "stream",
     "text": [
      "[1, 2, 3, 4, 5, 6, 1, 2, 3, 4, 5, 6]\n"
     ]
    }
   ],
   "source": [
    "a = [1, 2, 3, 4, 5, 6,]\n",
    "print(a*2)"
   ]
  },
  {
   "cell_type": "code",
   "execution_count": 17,
   "metadata": {},
   "outputs": [
    {
     "name": "stdout",
     "output_type": "stream",
     "text": [
      "['Ant', 'Ball', 'cat', 'Dog', 'fish']\n"
     ]
    }
   ],
   "source": [
    "b = ['Apple','Ball','cat','Dog','fish']\n",
    "b[0] = 'Ant'\n",
    "print(b)"
   ]
  },
  {
   "cell_type": "code",
   "execution_count": 18,
   "metadata": {},
   "outputs": [],
   "source": [
    "# append() insert() extend()"
   ]
  },
  {
   "cell_type": "code",
   "execution_count": 21,
   "metadata": {},
   "outputs": [
    {
     "name": "stdout",
     "output_type": "stream",
     "text": [
      "['Apple', 'Ball', 'Cat']\n"
     ]
    }
   ],
   "source": [
    "a = []\n",
    "a.append('Apple')\n",
    "a.append('Ball')\n",
    "a.append('Cat')\n",
    "print(a)"
   ]
  },
  {
   "cell_type": "code",
   "execution_count": 25,
   "metadata": {},
   "outputs": [
    {
     "name": "stdout",
     "output_type": "stream",
     "text": [
      "Enter n = 5\n",
      "Enter x = 324\n",
      "[324]\n",
      "Enter x = 76\n",
      "[324, 76]\n",
      "Enter x = 678\n",
      "[324, 76, 678]\n",
      "Enter x = 34\n",
      "[324, 76, 678, 34]\n",
      "Enter x = 234\n",
      "[324, 76, 678, 34, 234]\n"
     ]
    }
   ],
   "source": [
    "a = list()\n",
    "n = int(input(\"Enter n = \"))\n",
    "for i in range(n):\n",
    "    x = int(input(\"Enter x = \"))\n",
    "    a.append(x)\n",
    "    \n",
    "print(a)"
   ]
  },
  {
   "cell_type": "code",
   "execution_count": 30,
   "metadata": {},
   "outputs": [
    {
     "name": "stdout",
     "output_type": "stream",
     "text": [
      "The max value =  678\n",
      "The min value =  34\n",
      "[34, 76, 234, 324, 678]\n",
      "[678, 324, 234, 76, 34]\n"
     ]
    }
   ],
   "source": [
    "a = [324, 76, 678, 34, 234]\n",
    "print(\"The max value = \",max(a))\n",
    "print(\"The min value = \",min(a))\n",
    "a.sort()\n",
    "print(a)\n",
    "a.reverse()\n",
    "print(a)"
   ]
  },
  {
   "cell_type": "code",
   "execution_count": 32,
   "metadata": {},
   "outputs": [
    {
     "name": "stdout",
     "output_type": "stream",
     "text": [
      "['Ball', 'Cat', 'Xray', 'Zebra', 'apple']\n",
      "['apple', 'Zebra', 'Xray', 'Cat', 'Ball']\n"
     ]
    }
   ],
   "source": [
    "a = [\"Ball\",\"apple\",\"Cat\",'Zebra','Xray']\n",
    "\n",
    "a.sort()\n",
    "print(a)\n",
    "a.reverse()\n",
    "print(a)"
   ]
  },
  {
   "cell_type": "code",
   "execution_count": 33,
   "metadata": {},
   "outputs": [
    {
     "name": "stdout",
     "output_type": "stream",
     "text": [
      "apple\n",
      "Zebra\n",
      "Xray\n",
      "Cat\n",
      "Ball\n"
     ]
    }
   ],
   "source": [
    "for i in a:\n",
    "    print(i)"
   ]
  },
  {
   "cell_type": "code",
   "execution_count": 34,
   "metadata": {},
   "outputs": [
    {
     "name": "stdout",
     "output_type": "stream",
     "text": [
      "Enter search = apple\n",
      "Yes\n",
      "1\n"
     ]
    }
   ],
   "source": [
    "a = ['apple', 'Zebra', 'Xray', 'Cat', 'Ball']\n",
    "search = input(\"Enter search = \")\n",
    "if search in a:\n",
    "    print(\"Yes\")\n",
    "    print(a.count(search))"
   ]
  },
  {
   "cell_type": "code",
   "execution_count": 7,
   "metadata": {},
   "outputs": [
    {
     "name": "stdout",
     "output_type": "stream",
     "text": [
      "Enter search = Apple\n",
      "No\n"
     ]
    }
   ],
   "source": [
    "a = ['apple', 'Zebra', 'Xray', 'Cat', 'Ball','Apple']\n",
    "search = input(\"Enter search = \")\n",
    "c = 0\n",
    "l = len(a)\n",
    "for i in range(l):\n",
    "    if search.lower() == a[i].lower():\n",
    "        c = c+1\n",
    "if c>0:\n",
    "    print(\"yes\",c)\n",
    "else:\n",
    "    print(\"No\")"
   ]
  },
  {
   "cell_type": "code",
   "execution_count": 8,
   "metadata": {},
   "outputs": [
    {
     "data": {
      "text/plain": [
       "['apple', 'Zebra', 'xray', 'Xray', 'Cat', 'Ball', 'Apple']"
      ]
     },
     "execution_count": 8,
     "metadata": {},
     "output_type": "execute_result"
    }
   ],
   "source": [
    "a = ['apple', 'Zebra', 'Xray', 'Cat', 'Ball','Apple']\n",
    "a.insert(2,'xray')\n",
    "a"
   ]
  },
  {
   "cell_type": "code",
   "execution_count": 9,
   "metadata": {},
   "outputs": [
    {
     "name": "stdout",
     "output_type": "stream",
     "text": [
      "['apple', 'Zebra', 'Xray', 'Cat', 'Ball', 'Apple', 1, 2, 3, 4]\n"
     ]
    }
   ],
   "source": [
    "a = ['apple', 'Zebra', 'Xray', 'Cat', 'Ball','Apple']\n",
    "b = [1,2,3,4]\n",
    "a.extend(b)\n",
    "print(a)"
   ]
  },
  {
   "cell_type": "code",
   "execution_count": 12,
   "metadata": {},
   "outputs": [
    {
     "name": "stdout",
     "output_type": "stream",
     "text": [
      "['apple', 'Zebra', 'Xray', 'Cat', 'Ball', 'Apple', 'Apple']\n"
     ]
    }
   ],
   "source": [
    "a = ['apple', 'Zebra', 'Xray', 'Cat', 'Ball','Apple']\n",
    "b = [\"Apple\"]\n",
    "a.extend(b)\n",
    "print(a)"
   ]
  },
  {
   "cell_type": "code",
   "execution_count": 11,
   "metadata": {},
   "outputs": [
    {
     "data": {
      "text/plain": [
       "['A', 'p', 'p', 'l', 'e']"
      ]
     },
     "execution_count": 11,
     "metadata": {},
     "output_type": "execute_result"
    }
   ],
   "source": [
    "a = \"Apple\"\n",
    "list(a)"
   ]
  },
  {
   "cell_type": "code",
   "execution_count": 15,
   "metadata": {},
   "outputs": [
    {
     "data": {
      "text/plain": [
       "0"
      ]
     },
     "execution_count": 15,
     "metadata": {},
     "output_type": "execute_result"
    }
   ],
   "source": [
    "# index()\n",
    "a = ['apple', 'Zebra', 'Xray', 'Cat', 'Ball', 'Apple', 'Apple']\n",
    "a.index('apple')"
   ]
  },
  {
   "cell_type": "code",
   "execution_count": 16,
   "metadata": {},
   "outputs": [
    {
     "name": "stdout",
     "output_type": "stream",
     "text": [
      "Enter search = Apple\n",
      "5\n",
      "6\n"
     ]
    }
   ],
   "source": [
    "a = ['apple', 'Zebra', 'Xray', 'Cat', 'Ball', 'Apple', 'Apple']\n",
    "search = input(\"Enter search = \")\n",
    "for i in range(len(a)):\n",
    "    if search == a[i]:\n",
    "        print(i)"
   ]
  },
  {
   "cell_type": "code",
   "execution_count": 2,
   "metadata": {},
   "outputs": [
    {
     "name": "stdout",
     "output_type": "stream",
     "text": [
      "['Ant', 'Zebra', 'Xray', 'Cat', 'Ball', 'Apple', 'Apple']\n"
     ]
    }
   ],
   "source": [
    "#Update\n",
    "a = ['apple', 'Zebra', 'Xray', 'Cat', 'Ball', 'Apple', 'Apple']\n",
    "a[0] = 'Ant'\n",
    "print(a)"
   ]
  },
  {
   "cell_type": "code",
   "execution_count": 3,
   "metadata": {},
   "outputs": [
    {
     "name": "stdout",
     "output_type": "stream",
     "text": [
      "['Ant', 'zebra', 'xray', 'Cat', 'Ball', 'Apple', 'Apple']\n"
     ]
    }
   ],
   "source": [
    "a = ['apple', 'Zebra', 'Xray', 'Cat', 'Ball', 'Apple', 'Apple']\n",
    "a[0:3] = ['Ant','zebra','xray']\n",
    "print(a)"
   ]
  },
  {
   "cell_type": "code",
   "execution_count": 4,
   "metadata": {},
   "outputs": [
    {
     "name": "stdout",
     "output_type": "stream",
     "text": [
      "['zebra', 'xray', 'Cat', 'Ball', 'Apple', 'Apple']\n"
     ]
    }
   ],
   "source": [
    "# del remove() pop()\n",
    "a = ['Ant', 'zebra', 'xray', 'Cat', 'Ball', 'Apple', 'Apple']\n",
    "del a[0]\n",
    "print(a)"
   ]
  },
  {
   "cell_type": "code",
   "execution_count": 5,
   "metadata": {},
   "outputs": [
    {
     "name": "stdout",
     "output_type": "stream",
     "text": [
      "['Cat', 'Ball', 'Apple', 'Apple']\n"
     ]
    }
   ],
   "source": [
    "# del remove() pop()\n",
    "a = ['Ant', 'zebra', 'xray', 'Cat', 'Ball', 'Apple', 'Apple']\n",
    "del a[0:3]\n",
    "print(a)"
   ]
  },
  {
   "cell_type": "code",
   "execution_count": 6,
   "metadata": {},
   "outputs": [
    {
     "name": "stdout",
     "output_type": "stream",
     "text": [
      "['zebra', 'xray', 'Cat', 'Ball', 'Apple', 'Apple']\n"
     ]
    }
   ],
   "source": [
    "a = ['Ant', 'zebra', 'xray', 'Cat', 'Ball', 'Apple', 'Apple']\n",
    "a.remove('Ant')\n",
    "print(a)"
   ]
  },
  {
   "cell_type": "code",
   "execution_count": 7,
   "metadata": {},
   "outputs": [
    {
     "data": {
      "text/plain": [
       "['Ant', 'zebra', 'xray', 'Cat', 'Ball', 'Apple']"
      ]
     },
     "execution_count": 7,
     "metadata": {},
     "output_type": "execute_result"
    }
   ],
   "source": [
    "a = ['Ant', 'zebra', 'xray', 'Cat', 'Ball', 'Apple', 'apple']\n",
    "a.pop()\n",
    "a"
   ]
  },
  {
   "cell_type": "code",
   "execution_count": 9,
   "metadata": {},
   "outputs": [
    {
     "name": "stdout",
     "output_type": "stream",
     "text": [
      "['Ant', 'xray', 'Cat', 'Ball', 'Apple', 'apple']\n",
      "zebra\n"
     ]
    }
   ],
   "source": [
    "a = ['Ant', 'zebra', 'xray', 'Cat', 'Ball', 'Apple', 'apple']\n",
    "b =  a.pop(1)\n",
    "print(a)\n",
    "print(b)"
   ]
  },
  {
   "cell_type": "code",
   "execution_count": 12,
   "metadata": {},
   "outputs": [
    {
     "name": "stdout",
     "output_type": "stream",
     "text": [
      "['Ant', 'zebra', 'xray', 'Cat', 'Ball']\n"
     ]
    }
   ],
   "source": [
    "a = ['Apple','Ant', 'zebra', 'xray', 'Cat', 'Ball', 'Apple', 'Apple']\n",
    "b = []\n",
    "for i in a:\n",
    "    if \"Apple\"!= i:\n",
    "        b.append(i)\n",
    "        \n",
    "print(b)"
   ]
  },
  {
   "cell_type": "code",
   "execution_count": 14,
   "metadata": {},
   "outputs": [
    {
     "name": "stdout",
     "output_type": "stream",
     "text": [
      "[1, 2, 3]\n",
      "3\n"
     ]
    }
   ],
   "source": [
    "# list inside list\n",
    "# a = [[1],[3],[4]]\n",
    "\n",
    "a = [[1,2,3],\n",
    "    [4,5,6],\n",
    "    [7,8,9]]\n",
    "print(a[0])\n",
    "print(len(a))"
   ]
  },
  {
   "cell_type": "code",
   "execution_count": 21,
   "metadata": {},
   "outputs": [
    {
     "name": "stdout",
     "output_type": "stream",
     "text": [
      "3\n"
     ]
    }
   ],
   "source": [
    "print(a[0][2])"
   ]
  },
  {
   "cell_type": "code",
   "execution_count": 22,
   "metadata": {},
   "outputs": [
    {
     "name": "stdout",
     "output_type": "stream",
     "text": [
      "[['Ram', 45, 'Kathmandu'], ['Shyam', 34, 'Bhaktapur'], ['Hari', 23, 'Lalitpur']]\n"
     ]
    }
   ],
   "source": [
    "a = [['Ram',45,'Kathmandu'],\n",
    "    ['Shyam',34,'Bhaktapur'],\n",
    "    ['Hari',23,'Lalitpur']]\n",
    "print(a)"
   ]
  },
  {
   "cell_type": "code",
   "execution_count": 25,
   "metadata": {},
   "outputs": [
    {
     "name": "stdout",
     "output_type": "stream",
     "text": [
      "Enter n = 3\n",
      "Enter name = Ram\n",
      "Enter age = 56\n",
      "Enter add = Kathmandu\n",
      "Enter name = Shyam\n",
      "Enter age = 78\n",
      "Enter add = Kathmandu\n",
      "Enter name = Nabin\n",
      "Enter age = 45\n",
      "Enter add = Bara\n"
     ]
    }
   ],
   "source": [
    "info = []\n",
    "n = int(input(\"Enter n = \"))\n",
    "for i in range(1,n+1):\n",
    "    name = input(\"Enter name = \")\n",
    "    age = int(input(\"Enter age = \"))\n",
    "    add = input(\"Enter add = \")\n",
    "    x = [i,name,age,add]\n",
    "    info.append(x)\n",
    "    "
   ]
  },
  {
   "cell_type": "code",
   "execution_count": 26,
   "metadata": {},
   "outputs": [
    {
     "name": "stdout",
     "output_type": "stream",
     "text": [
      "[[1, 'Ram', 56, 'Kathmandu'], [2, 'Shyam', 78, 'Kathmandu'], [3, 'Nabin', 45, 'Bara']]\n"
     ]
    }
   ],
   "source": [
    "print(info)"
   ]
  },
  {
   "cell_type": "code",
   "execution_count": 27,
   "metadata": {},
   "outputs": [
    {
     "name": "stdout",
     "output_type": "stream",
     "text": [
      "[1, 'Ram', 56, 'Kathmandu']\n",
      "[2, 'Shyam', 78, 'Kathmandu']\n",
      "[3, 'Nabin', 45, 'Bara']\n"
     ]
    }
   ],
   "source": [
    "for i in info:\n",
    "    print(i)"
   ]
  },
  {
   "cell_type": "code",
   "execution_count": 28,
   "metadata": {},
   "outputs": [
    {
     "name": "stdout",
     "output_type": "stream",
     "text": [
      "Enter name = Ram\n",
      "[1, 'Ram', 56, 'Kathmandu']\n"
     ]
    }
   ],
   "source": [
    "name = input(\"Enter name = \")\n",
    "for i in info:\n",
    "    if name in i:\n",
    "        print(i)"
   ]
  },
  {
   "cell_type": "code",
   "execution_count": 31,
   "metadata": {},
   "outputs": [
    {
     "data": {
      "text/plain": [
       "[[1, 'Rama', 34, 'Bhaktapur'],\n",
       " [2, 'Shyam', 78, 'Kathmandu'],\n",
       " [3, 'Nabin', 45, 'Bara']]"
      ]
     },
     "execution_count": 31,
     "metadata": {},
     "output_type": "execute_result"
    }
   ],
   "source": [
    "# Update\n",
    "info[0] = [1,'Rama',34,'Bhaktapur']\n",
    "info"
   ]
  },
  {
   "cell_type": "code",
   "execution_count": 34,
   "metadata": {},
   "outputs": [
    {
     "data": {
      "text/plain": [
       "[[1, 'Sita', 34, 'Bharatpur'],\n",
       " [2, 'Shyam', 78, 'Kathmandu'],\n",
       " [3, 'Nabin', 45, 'Bara']]"
      ]
     },
     "execution_count": 34,
     "metadata": {},
     "output_type": "execute_result"
    }
   ],
   "source": [
    "info[0][1] = 'Sita'\n",
    "info[0][3] = 'Bharatpur'\n",
    "info"
   ]
  },
  {
   "cell_type": "code",
   "execution_count": 35,
   "metadata": {},
   "outputs": [
    {
     "name": "stdout",
     "output_type": "stream",
     "text": [
      "Enter r = 2\n",
      "Enter c = 2\n",
      "Enter x = 231\n",
      "Enter x = 34\n",
      "Enter x = 54\n",
      "Enter x = 234\n",
      "[[231, 34], [54, 234]]\n"
     ]
    }
   ],
   "source": [
    "# WAP to create list inside list (matrix) with give row and column\n",
    "\n",
    "l = []\n",
    "r = int(input(\"Enter r = \"))\n",
    "c = int(input(\"Enter c = \"))\n",
    "for i in range(r):\n",
    "    y = []\n",
    "    for j in range(c):\n",
    "        x = int(input(\"Enter x = \"))\n",
    "        y.append(x)\n",
    "        \n",
    "    l.append(y)\n",
    "print(l)"
   ]
  },
  {
   "cell_type": "code",
   "execution_count": null,
   "metadata": {},
   "outputs": [],
   "source": []
  }
 ],
 "metadata": {
  "kernelspec": {
   "display_name": "Python 3 (ipykernel)",
   "language": "python",
   "name": "python3"
  },
  "language_info": {
   "codemirror_mode": {
    "name": "ipython",
    "version": 3
   },
   "file_extension": ".py",
   "mimetype": "text/x-python",
   "name": "python",
   "nbconvert_exporter": "python",
   "pygments_lexer": "ipython3",
   "version": "3.7.1"
  }
 },
 "nbformat": 4,
 "nbformat_minor": 2
}
